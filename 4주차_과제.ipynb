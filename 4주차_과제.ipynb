{
  "nbformat": 4,
  "nbformat_minor": 0,
  "metadata": {
    "colab": {
      "name": "4주차 과제.ipynb",
      "provenance": [],
      "collapsed_sections": [],
      "include_colab_link": true
    },
    "kernelspec": {
      "name": "python3",
      "display_name": "Python 3"
    }
  },
  "cells": [
    {
      "cell_type": "markdown",
      "metadata": {
        "id": "view-in-github",
        "colab_type": "text"
      },
      "source": [
        "<a href=\"https://colab.research.google.com/github/lee-gyeongseob/Al_pre_course_project/blob/master/4%EC%A3%BC%EC%B0%A8_%EA%B3%BC%EC%A0%9C.ipynb\" target=\"_parent\"><img src=\"https://colab.research.google.com/assets/colab-badge.svg\" alt=\"Open In Colab\"/></a>"
      ]
    },
    {
      "cell_type": "markdown",
      "metadata": {
        "id": "wxkL6PjwsI6L",
        "colab_type": "text"
      },
      "source": [
        "# 4주차 과제\n",
        "- 용어 정리\n",
        "- 딥러닝 강의 클론 코딩\n",
        "- 딥러닝 순전파 & 역전파 계산"
      ]
    },
    {
      "cell_type": "markdown",
      "metadata": {
        "id": "ixEtDe6_uGgI",
        "colab_type": "text"
      },
      "source": [
        "## 1. 용어 정리\n",
        "\n",
        "다음 제시된 단어의 정의(설명)를 정리하여 작성 하세요.\n",
        "\n",
        "* 2문장 이상 작성 해 주세요. \n",
        "* 주제(단어)와 크게 벗어나지만 않는다면 정답처리 됩니다.\n",
        "* 강의 뿐 아니라 기타 레퍼런스를 참고하여 작성하셔도 됩니다. (기타 레퍼런스를 참고하신 경우, 해당 레퍼런스를 정리하여 하단에 작성해 주세요.)\n"
      ]
    },
    {
      "cell_type": "markdown",
      "metadata": {
        "id": "0lfwat8eurKZ",
        "colab_type": "text"
      },
      "source": [
        "__(예시)__\n",
        "### 심층 신경망\n",
        ": 입력층과 출력층 사이에 여러 개의 은닉층들로 이뤄진 인공신경망이다. 심층 신경망은 일반적으로 인공신경망과 마찬가지로 복잡한 비선형 관계들을 모델링 할 수 있다. 신층신경망의 목적은 분류 및 수치예측을 하기 위함이고 이미지 트레이닝이나 문자인식과 같은 분야에서 매우 유용하게 쓰이고 있다."
      ]
    },
    {
      "cell_type": "markdown",
      "metadata": {
        "id": "Y8YJNKG_v65A",
        "colab_type": "text"
      },
      "source": [
        "### MCP 뉴런\n",
        ": 1943년 워렌 맥컬록과 월터 피츠가 발표한 간소화된 뇌의 뉴런 개념이다. 뇌의 화학적 전기신호를 처리하고 전달하는 뉴런을 모델링하여 이진 출력을 내는 간단한 논리 회로로 표현했으며, 프랭크 로젠 블랫이 발표한 perceptron 학습 개념의 기반이 된다.\n",
        "\n",
        "### 퍼셉트론\n",
        ": 1957년 프랭크 로젠 블렛에 의해 발표된 인공 신경망의 한 종류이다. 각 노드의 가중치와 입력치를 곱한 것을 모두 합한 값이 활성함수에 의해 판단되는데, 그 값이 임계치(보통 0)보다 크면 뉴런이 활성화되고 결과값으로 1을 출력한다. 뉴런이 활성화되지 않으면 결과값으로 -1을 출력한다.\n",
        "\n",
        "마빈 민스키와 시모어 페퍼트는 저서 \"퍼셉트론\"에서 단층 퍼셉트론은 XOR 연산이 불가능하지만, 다층 퍼셉트론으로는 XOR 연산이 가능함을 보였다.\n",
        "* [위키백과 참조](https://ko.wikipedia.org/wiki/%ED%8D%BC%EC%85%89%ED%8A%B8%EB%A1%A0)\n",
        "\n",
        "### 역전파\n",
        ": 다층 퍼셉트론에서 적절한 가중치와 편향을 학습하는 것이 어렵다는 문제를 해결하기 위해 제프리 힌튼이 만든 알고리즘이다. 모든 입력값을 대상으로 손실함수가 최소가 되도록 가중치를 조절하는 것을 목표로 한다. 학습을 진행 할수록 손실함수(E)를 가중치(w)로 미분한 기울기값이 소멸해 버리는 문제점이 있다.\n",
        "\n",
        "### 강화학습\n",
        ": 강화 학습(Reinforcement learning)은 기계 학습의 한 영역이다. 어떤 환경 안에서 정의된 에이전트가 현재의 상태를 인식하여, 선택 가능한 행동들 중 보상을 최대화하는 행동 혹은 행동 순서를 선택하는 방법이다. 기본적으로 강화학습의 문제는 순차적인 행동을 알아가는 방법을 수학적으로 정리한 MDP(Markov decision process)으로 표현된다. 강화학습의 초점은 학습 과정에서의 성능이며, 이는 탐색(exploration)과 이용(exploitation)의 균형을 맞춤으로써 제고된다. 하지만 여전히 탐색과 활용을 동시에 할 수 없다는 딜레마를 가지고 있다.\n",
        "* [위키백과 참조](https://ko.wikipedia.org/wiki/%EA%B0%95%ED%99%94_%ED%95%99%EC%8A%B5)\n",
        "\n",
        "### 과적합\n",
        ": 더 정확한 식을 위해 차수를 늘리는 방향으로 목적함수를 설계하였을 경우 실제 데이터를 적용 시 학습 데이터를 과하게 학습하는 것을 말한다. 이는 일반적으로 실제 데이터를 모두 정확히 분류하는 것은 거의 불가능하고, 설령 가능하더라도 학습하는 데 걸리는 시간이 측정 불가능할 정도로 증가하기 때문에 발생한다. 이러한 문제는 의사 결정 트리에서 트리 최대깊이 제한(pruning-가지치기)이 없는 경우에도 발생한다.\n",
        "\n",
        "### 차원의 저주\n",
        ": Dynamic programing 문제를 고려할 때  Richard E. Bellman이 만들어낸 개념이다. 고정된 크기의 훈련 데이터셋이 차원이 늘어남에 따라 특성 공간이 점점 희소해 지는 현상을 뜻한다. 이러한 문제를 해결하기 위해 올바른 변수 선택과 차원 축소 기법 등을 사용하는 방법이 있다.\n",
        "* [위키백과 참조](https://en.wikipedia.org/wiki/Curse_of_dimensionality)\n"
      ]
    },
    {
      "cell_type": "markdown",
      "metadata": {
        "id": "d-zfFXLCy6jD",
        "colab_type": "text"
      },
      "source": [
        "## 2. 딥러닝 강의 클론 코딩\n",
        "\n",
        "####__퍼셉트론 구조 구현하기__ \n",
        "딥러닝 강의(__딥러닝 원리[1] 3:15 ~ 5:15 부분__)를 보고 코드를 따라 치며 출력 결과를 만드세요.\n",
        " \n",
        "\n",
        "* 하나의 코드셀에 해당 코드를 한번에 다 적어서 실행해주세요 (__그렇게 하지 않을 경우, 아래 이미지와 같은 출력값이 나오지 않을 수 있습니다__)\n",
        "\n",
        "*__주의!__ 실제로 코딩해서 출력해보면 강의에 나온 출력 결과와 다르게 나옵니다!!\n"
      ]
    },
    {
      "cell_type": "markdown",
      "metadata": {
        "id": "wcc5mzI9oZ7r",
        "colab_type": "text"
      },
      "source": [
        "![대체 텍스트](https://www.notion.so/image/https%3A%2F%2Fs3-us-west-2.amazonaws.com%2Fsecure.notion-static.com%2F0cceeed0-0235-4b0f-af88-0b8c377d5b4b%2F_2020-06-09__9.35.23.png?table=block&id=88fd8912-9356-49a4-9fda-a1a63fe96ea9&width=2870&cache=v2)"
      ]
    },
    {
      "cell_type": "code",
      "metadata": {
        "id": "OcGwpEGz8Qiu",
        "colab_type": "code",
        "colab": {
          "base_uri": "https://localhost:8080/",
          "height": 217
        },
        "outputId": "9807ce90-dbcf-4c9f-f56b-8469b788e177"
      },
      "source": [
        "import tensorflow as tf\n",
        "tf.compat.v1.set_random_seed(2020)\n",
        "x = 1\n",
        "y = 0\n",
        "w = tf.random.normal([1],0,1)\n",
        "\n",
        "import math\n",
        "def sigmoid(x):\n",
        "  return 1/(1+math.exp(-x))\n",
        "\n",
        "output = sigmoid(x*w)\n",
        "print(output)\n",
        "\n",
        "for i in range(1000):\n",
        "  output = sigmoid(x*w)\n",
        "  error = y - output\n",
        "  w = w + x* 0.1* error\n",
        "\n",
        "  if i % 100 == 99:\n",
        "    print(\"학습 횟수:\",i, \"Error\",error, \"예측 결과\", output)"
      ],
      "execution_count": 2,
      "outputs": [
        {
          "output_type": "stream",
          "text": [
            "0.47477188589261\n",
            "학습 횟수: 99 Error -0.10010598284299604 예측 결과 0.10010598284299604\n",
            "학습 횟수: 199 Error -0.05178399422833116 예측 결과 0.05178399422833116\n",
            "학습 횟수: 299 Error -0.034590451977903586 예측 결과 0.034590451977903586\n",
            "학습 횟수: 399 Error -0.02588962752851373 예측 결과 0.02588962752851373\n",
            "학습 횟수: 499 Error -0.020658699939863617 예측 결과 0.020658699939863617\n",
            "학습 횟수: 599 Error -0.017174253993457355 예측 결과 0.017174253993457355\n",
            "학습 횟수: 699 Error -0.014689506449480992 예측 결과 0.014689506449480992\n",
            "학습 횟수: 799 Error -0.012829497265431342 예측 결과 0.012829497265431342\n",
            "학습 횟수: 899 Error -0.011385568271837804 예측 결과 0.011385568271837804\n",
            "학습 횟수: 999 Error -0.010232493309882492 예측 결과 0.010232493309882492\n"
          ],
          "name": "stdout"
        }
      ]
    },
    {
      "cell_type": "markdown",
      "metadata": {
        "id": "kr0HVRk8fOom",
        "colab_type": "text"
      },
      "source": [
        "## 3. 딥러닝 순전파 & 역전파 계산\n",
        "\n",
        "딥러닝 강의(__딥러닝 원리[2] 0:55 ~ 4:32 부분__)에 나오는 순전파 & 역전파 계산에 대한 문제 입니다.\n",
        "\n",
        "해당 영상과 다음 이미지를 참고하여 다음 2가지 물음에 답하세요.\n",
        "\n",
        "\n",
        "(1) 학습률이 0.2 일 경우 출력층의 노드값\n",
        "\n",
        "(2) 학습률이 0.1과 0.2 중 기대출력값이 지도데이터 \"3\"과 더 가까운 학습률은?"
      ]
    },
    {
      "cell_type": "markdown",
      "metadata": {
        "id": "CpwPFWhOUzww",
        "colab_type": "text"
      },
      "source": [
        "![대체 텍스트](https://www.notion.so/image/https%3A%2F%2Fs3-us-west-2.amazonaws.com%2Fsecure.notion-static.com%2Ff54dfd45-92ec-44ae-9616-6949d2484a45%2F_2020-06-10__5.22.03.png?table=block&id=ee05da89-3ceb-4ad9-a2d3-c9f68d24d1d9&width=3580&cache=v2)"
      ]
    },
    {
      "cell_type": "markdown",
      "metadata": {
        "id": "B2OVY7w5U3CI",
        "colab_type": "text"
      },
      "source": [
        "## (1) 학습률이 0.2 일 경우 출력층의 노드값 : 1.6\n",
        "## (2) 학습률이 0.1과 0.2 중 기대출력값이 지도데이터 \"3\"과 더 가까운 학습률은? : 0.1"
      ]
    }
  ]
}