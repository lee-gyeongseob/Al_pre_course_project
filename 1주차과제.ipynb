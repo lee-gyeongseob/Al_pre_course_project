{
  "nbformat": 4,
  "nbformat_minor": 0,
  "metadata": {
    "colab": {
      "name": "1주차과제.ipynb",
      "provenance": [],
      "collapsed_sections": [],
      "authorship_tag": "ABX9TyPDPHqXe2kzclhDVFumaNqd",
      "include_colab_link": true
    },
    "kernelspec": {
      "name": "python3",
      "display_name": "Python 3"
    }
  },
  "cells": [
    {
      "cell_type": "markdown",
      "metadata": {
        "id": "view-in-github",
        "colab_type": "text"
      },
      "source": [
        "<a href=\"https://colab.research.google.com/github/lee-gyeongseob/Al_pre_course_project/blob/master/1%EC%A3%BC%EC%B0%A8%EA%B3%BC%EC%A0%9C.ipynb\" target=\"_parent\"><img src=\"https://colab.research.google.com/assets/colab-badge.svg\" alt=\"Open In Colab\"/></a>"
      ]
    },
    {
      "cell_type": "markdown",
      "metadata": {
        "id": "DQyf4dkfy24f",
        "colab_type": "text"
      },
      "source": [
        "# 1주차 과제\n",
        "## 현재 인공지능이 사용되고 있는 대표적인 분야의 시제품들과 적용된 인공지능 기술들에 대해 분석해보고 흥미를 끄는 기술들을 찾아보기\n",
        "***"
      ]
    },
    {
      "cell_type": "markdown",
      "metadata": {
        "id": "LUnblbqB0_bS",
        "colab_type": "text"
      },
      "source": [
        "###① 언어   \n",
        "####  카카오의 상담톡 메이크봇   \n",
        "* 대표적으로 카카오의 상담톡 – **메이크봇**이 있다. 메이크봇은 학습을 통해 사용자의 정서를 이해하고 최적화된 정보를 추천하며 지속적으로 새로운 관계를 형성하도록 되어있다.\n",
        "이를 위해서는 인간의 말을 이해하는 자연어 학습 기술이 필요하다. 그래서 인공신경망을 이용한 딥러닝 기반 자연어 학습 기술을 이용하는데 자체적으로 한글 전처리 기술과 문장 구조 파악, 구문 분석, 유의어 학습 등을 수행하여 이를 토대로 정제된 데이터를 셀프러닝하여 출력 값의 결과 값을 높인다. 그 뿐만 아니라 풍부한 감수성과 분야별 전문적 지식을 탑재하고 있다. 이러한 기술들을 기반으로 오늘날 빠르고 맞춤화된 서비스를 제공하고 있다.   \n",
        "[네이버 - AI 메이크봇](https://blog.naver.com/vonledf/221504612979)   \n",
        "[AI 챗봇 이미지](https://drive.google.com/file/d/11H1DiUbOZfjPpeK6gX3QtQUlau-RzEZv/view?usp=sharing)\n",
        "***"
      ]
    },
    {
      "cell_type": "markdown",
      "metadata": {
        "id": "hiuTJbMh0__P",
        "colab_type": "text"
      },
      "source": [
        "### ② 음성   \n",
        "#### AI 스피커   \n",
        "* 대표적인 음성기술로 만든 제품으로는 AI스피커가 있고 현재 많은 기업들이 대표하는 제품들을 이미 출시하였다.\n",
        "__구글-홈 미니, 아마존 - 알렉사, 카카오-클로바 프렌즈, SKT - NUGUM, 삼성 – 갤럭시 홈 미니 등등__ 많은 제품들이 있다. 이런 AI 스피커가 기계 학습을 하기 위해서는 5가지 구성요소 고려해야 한다.\n",
        "1. grammar : 사람이 스피커에게 말할 때 사람의 목소리를 받아들이는 요소이다.\n",
        "2. prompt : 인공지능 스피커가 질문에 대한 대답이나 간단한 정보로 사람에게 말하는 것을 말한다.\n",
        "3. persona : AI 스피커가 갖는 개인/ 정체성을 의미한다. 즉 사용 용도에 목소리, 관련 데이터, 사실 자료를 기반으로 정확한 내용을 말하도록 설계해야 한다.4. prosody : 운율체계를 말하는데 목소리 높낮이, 음색 등을 말한다.\n",
        "5. interaction : 사람과의 상호작용을 의미한다. 사람이 AI 스피커를 어떤 대상으로 여기는 지를 학습하여 반영한다.\n",
        "위의 요소들을 기반으로 입력된 음성 데이터를 스피치 인식기를 통해 언어로 변환하고 언어 정보 추출기를 통해 문자를 추출한다. 그리고 뉴런 네트워크를 통해 그 뜻을 해석해 출력 값의 정확도를 높인다.   \n",
        "[네이버 - AI스피커 작동원리](https://brunch.co.kr/@brunchxjk0/90)   \n",
        "[기업들의 AI스피커 이미지](https://drive.google.com/file/d/162rJjEeRSx19dXGeimfmnzdSFT8yfGhO/view?usp=sharing)\n",
        "***"
      ]
    },
    {
      "cell_type": "markdown",
      "metadata": {
        "id": "Gieej9Xu1AXF",
        "colab_type": "text"
      },
      "source": [
        "### ③ 이미지   \n",
        "#### 스마트폰의 홍체인식, 지문인식   \n",
        "* 이미지 인식 기술은 주로 보안 분야에 널리 쓰이고 있는데 대표적으로 __지문인식과 홍채인식__이 있다. 핸드폰 계의 양대 산맥 삼성과 애플을 포함해서 LG나 샤오미 제품들도 요즘 나온 제품이라면 전부 탑재 되어있다. 생각해보면 어느 순간부터 우리는 스마트폰 잠금 화면을 푸는데 비밀번호나 패턴을 누르지 않게 되었다. 손만 갖다 대면 또는 얼굴만 들이밀면 잠금 화면이 풀리는 것이다. 왜 하필 홍채와 지문일까? 이는 사람은 모두가 다르다는 공통된 특성이 있기 때문이다. 이러한 기술의 원리를 알아보면 먼저 수집된 홍채 또는 지문의 패턴을 코드화하여 이를 영상신호로 바꾼다. 그리고 영역별로 나누어 분석해 개인의 홍채 또는 지문 코드를 생성하고 그렇게 생성된 데이터는 DB에 등록과 동시에 비교 검색이 이루어진다.   \n",
        "[네이버 - 생체 인식 기술](https://blog.naver.com/secsemicon/221838417794)   \n",
        "[홍채인식 이미지](https://drive.google.com/file/d/1M3h66pT-shPlfTNDLR8CnbfP_iRnmtg0/view?usp=sharing)   \n",
        "[지문인식 이미지](https://drive.google.com/file/d/1rfNtGAWuI8XNbPoartFk71x3_0DsqaRj/view?usp=sharing)\n",
        "***"
      ]
    },
    {
      "cell_type": "markdown",
      "metadata": {
        "id": "MaMxrgLw1AmW",
        "colab_type": "text"
      },
      "source": [
        "### ④ 자율주행   \n",
        "#### 구글 웨이모(WAYMO)의 자율주행 택시   \n",
        "* __구글 웨이모__는 현재 자율주행 분야 기술로 1위를 받을 정도로 뛰어난 기술을 보유하고 있다. 그런만큼 __웨이모의 택시__는 자율주행 차량이 갖춰야할 센서, 소프트웨어, 하드웨어 3가지 기술이 모두 뛰어나다.\n",
        "먼저 물체와 보행자를 3D 이미지로 스캔하여 이미지의 크기와 사이 간격을 계산하는 센서를 부착하고 있는데 이를 통해 아주 먼 곳까지 선명하고 정확하게 인식할 수 있다. 그리고 신호등을 판별하는 카메라와 물체를 감지하고 추적하는 레이더를 장작하고 있다. 이를 인식하고 수행하는 딥러닝 기술 역시나 높은 정확도를 보여준다. 하드웨어인 차량 역시 이에 맞춰 높은 성능을 자랑한다.\n",
        "현재 아리조나주 피닉스지방을 대상으로 앱을 통해 서비스가 제공되고 있고 앞으로 대중교통 자율주행화에 선도하는 기업으로써 우리가 충분히 눈여겨 볼만하다.   \n",
        "[네이버 - 구글 웨이모 택시](https://blog.naver.com/gostma0/221948450796)   \n",
        "[구글 웨이모 택시 이미지](https://drive.google.com/file/d/1hy7d8p-mDs8fD6tUxrxtRUG1PszLxZF0/view?usp=sharing)\n",
        "***\n"
      ]
    }
  ]
}